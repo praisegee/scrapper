{
 "cells": [
  {
   "cell_type": "code",
   "execution_count": 1,
   "metadata": {},
   "outputs": [],
   "source": [
    "import pandas as pd"
   ]
  },
  {
   "cell_type": "code",
   "execution_count": 2,
   "metadata": {},
   "outputs": [],
   "source": [
    "dt1 = pd.read_csv('./dataset/car_scrape.csv')\n",
    "dt2 = pd.read_csv('./dataset/car_scrape3.csv')\n",
    "dt3 = pd.read_csv('./dataset/car_scrape4.csv')"
   ]
  },
  {
   "cell_type": "code",
   "execution_count": 12,
   "metadata": {},
   "outputs": [],
   "source": [
    "pd.concat([dt1, dt2, dt3], axis=0).drop_duplicates().to_csv('new_scrape.csv', index=False)"
   ]
  },
  {
   "cell_type": "code",
   "execution_count": 3,
   "metadata": {},
   "outputs": [
    {
     "name": "stdout",
     "output_type": "stream",
     "text": [
      "(50, 28)\n",
      "Index(['Name', 'Price', 'Market price', 'Location', 'Thumbnail', 'Images',\n",
      "       'Gear', 'Odometer', 'Fuel type', 'Car condition', 'Other features',\n",
      "       'Dealer name', 'Page link', 'Second Condition', 'Make', 'Model',\n",
      "       'Year of Manufacture', 'Trim', 'Body', 'Drivetrain', 'Engine Size',\n",
      "       'Number of Cylinders', 'Horse Power', 'Color', 'Seats',\n",
      "       'Registered Car', 'Exchange Possible', 'VIN Chassis number'],\n",
      "      dtype='object')\n",
      "28\n"
     ]
    }
   ],
   "source": [
    "print(dt1.shape)\n",
    "print(dt1.columns)\n",
    "print(len(dt1.columns))"
   ]
  },
  {
   "cell_type": "code",
   "execution_count": 4,
   "metadata": {},
   "outputs": [
    {
     "name": "stdout",
     "output_type": "stream",
     "text": [
      "(3610, 30)\n",
      "Index(['Name', 'Price', 'Market price', 'Location', 'Thumbnail', 'Images',\n",
      "       'Gear', 'Odometer', 'Fuel type', 'Car condition', 'Other features',\n",
      "       'Dealer name', 'Page link', 'Second Condition', 'Make', 'Model',\n",
      "       'Year of Manufacture', 'Color', 'Registered Car', 'Trim', 'Body',\n",
      "       'Drivetrain', 'Engine Size', 'Number of Cylinders', 'Horse Power',\n",
      "       'Seats', 'Exchange Possible', 'VIN Chassis number', 'Mileage',\n",
      "       'VIN number'],\n",
      "      dtype='object')\n",
      "30\n"
     ]
    }
   ],
   "source": [
    "print(dt2.shape)\n",
    "print(dt2.columns)\n",
    "print(len(dt2.columns))"
   ]
  },
  {
   "cell_type": "code",
   "execution_count": 5,
   "metadata": {},
   "outputs": [
    {
     "name": "stdout",
     "output_type": "stream",
     "text": [
      "(1650, 30)\n",
      "Index(['Name', 'Price', 'Market price', 'Location', 'Thumbnail', 'Images',\n",
      "       'Gear', 'Odometer', 'Fuel type', 'Car condition', 'Other features',\n",
      "       'Dealer name', 'Page link', 'Second Condition', 'Make', 'Model',\n",
      "       'Year of Manufacture', 'Trim', 'Body', 'Drivetrain', 'Engine Size',\n",
      "       'Number of Cylinders', 'Horse Power', 'Color', 'Seats',\n",
      "       'Registered Car', 'Exchange Possible', 'VIN Chassis number',\n",
      "       'VIN number', 'Mileage'],\n",
      "      dtype='object')\n",
      "30\n"
     ]
    }
   ],
   "source": [
    "print(dt3.shape)\n",
    "print(dt3.columns)\n",
    "print(len(dt3.columns))"
   ]
  },
  {
   "cell_type": "code",
   "execution_count": 6,
   "metadata": {},
   "outputs": [
    {
     "name": "stdout",
     "output_type": "stream",
     "text": [
      "30\n"
     ]
    }
   ],
   "source": [
    "union = set(dt2.columns).union(set(dt3.columns))\n",
    "print(len(union))"
   ]
  },
  {
   "cell_type": "code",
   "execution_count": null,
   "metadata": {},
   "outputs": [],
   "source": []
  }
 ],
 "metadata": {
  "kernelspec": {
   "display_name": "venv",
   "language": "python",
   "name": "python3"
  },
  "language_info": {
   "codemirror_mode": {
    "name": "ipython",
    "version": 3
   },
   "file_extension": ".py",
   "mimetype": "text/x-python",
   "name": "python",
   "nbconvert_exporter": "python",
   "pygments_lexer": "ipython3",
   "version": "3.10.6"
  },
  "orig_nbformat": 4
 },
 "nbformat": 4,
 "nbformat_minor": 2
}
